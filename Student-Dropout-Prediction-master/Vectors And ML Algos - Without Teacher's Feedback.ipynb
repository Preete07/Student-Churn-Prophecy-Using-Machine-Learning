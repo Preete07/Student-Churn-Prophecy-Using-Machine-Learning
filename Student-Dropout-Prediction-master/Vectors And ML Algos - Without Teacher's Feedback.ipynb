{
 "cells": [
  {
   "cell_type": "code",
   "execution_count": 1,
   "metadata": {},
   "outputs": [
    {
     "name": "stderr",
     "output_type": "stream",
     "text": [
      "C:\\Users\\Pratheesh\\Anaconda3\\lib\\site-packages\\gensim\\utils.py:1197: UserWarning: detected Windows; aliasing chunkize to chunkize_serial\n",
      "  warnings.warn(\"detected Windows; aliasing chunkize to chunkize_serial\")\n"
     ]
    }
   ],
   "source": [
    "## Import libraries\n",
    "import numpy as np\n",
    "import pandas as pd\n",
    "import matplotlib.pyplot as plt\n",
    "import seaborn as sns\n",
    "%matplotlib inline\n",
    "import sqlite3    ## SQL Interface\n",
    "import pickle     ## Used to save your data - Converts objects to byte stream and vice versa\n",
    "\n",
    "from sklearn.feature_extraction.text import CountVectorizer  ## BOW Model\n",
    "from sklearn.feature_extraction.text import TfidfVectorizer  ## TFIDF Model\n",
    "\n",
    "import gensim    ## To build Word2Vec model\n",
    "from sklearn.model_selection import GridSearchCV\n",
    "from sklearn.linear_model import LogisticRegression"
   ]
  },
  {
   "cell_type": "code",
   "execution_count": 2,
   "metadata": {
    "collapsed": true
   },
   "outputs": [],
   "source": [
    "from sklearn.naive_bayes import MultinomialNB    #Multinomial Naive - Bayes\n",
    "\n",
    "from sklearn.preprocessing import StandardScaler\n",
    "from sklearn.model_selection import train_test_split\n",
    "from sklearn.neighbors import KNeighborsClassifier\n",
    "from matplotlib.colors import ListedColormap\n",
    "from sklearn.model_selection import cross_val_score\n",
    "from sklearn.metrics import accuracy_score\n",
    "from sklearn.metrics import confusion_matrix\n"
   ]
  },
  {
   "cell_type": "code",
   "execution_count": 3,
   "metadata": {},
   "outputs": [
    {
     "data": {
      "text/html": [
       "<div>\n",
       "<style>\n",
       "    .dataframe thead tr:only-child th {\n",
       "        text-align: right;\n",
       "    }\n",
       "\n",
       "    .dataframe thead th {\n",
       "        text-align: left;\n",
       "    }\n",
       "\n",
       "    .dataframe tbody tr th {\n",
       "        vertical-align: top;\n",
       "    }\n",
       "</style>\n",
       "<table border=\"1\" class=\"dataframe\">\n",
       "  <thead>\n",
       "    <tr style=\"text-align: right;\">\n",
       "      <th></th>\n",
       "      <th>SEM 1 SGPA</th>\n",
       "      <th>SEM 1 KT</th>\n",
       "      <th>SEM 2 SGPA</th>\n",
       "      <th>SEM 2 KT</th>\n",
       "      <th>SEM 3 SGPA</th>\n",
       "      <th>SEM 3 KT</th>\n",
       "      <th>SEM 4 SGPA</th>\n",
       "      <th>SEM 4 KT</th>\n",
       "      <th>SEM 5 SGPA</th>\n",
       "      <th>SEM 5 KT</th>\n",
       "      <th>...</th>\n",
       "      <th>2_hrs_lect</th>\n",
       "      <th>Submissions</th>\n",
       "      <th>5_hrs_lect</th>\n",
       "      <th>5_hrs_pracs</th>\n",
       "      <th>Coaching_classes</th>\n",
       "      <th>Teacher's Feedback</th>\n",
       "      <th>Label</th>\n",
       "      <th>Scocial_Skills</th>\n",
       "      <th>Average pointer</th>\n",
       "      <th>Cleaned_Feedback</th>\n",
       "    </tr>\n",
       "  </thead>\n",
       "  <tbody>\n",
       "    <tr>\n",
       "      <th>0</th>\n",
       "      <td>7.10</td>\n",
       "      <td>0</td>\n",
       "      <td>6.85</td>\n",
       "      <td>0</td>\n",
       "      <td>7.20</td>\n",
       "      <td>1.0</td>\n",
       "      <td>7.30</td>\n",
       "      <td>0.0</td>\n",
       "      <td>7.60</td>\n",
       "      <td>0</td>\n",
       "      <td>...</td>\n",
       "      <td>0</td>\n",
       "      <td>0</td>\n",
       "      <td>0</td>\n",
       "      <td>0</td>\n",
       "      <td>0</td>\n",
       "      <td>Disciplined and hard working</td>\n",
       "      <td>1</td>\n",
       "      <td>0</td>\n",
       "      <td>7.13125</td>\n",
       "      <td>disciplin hard work</td>\n",
       "    </tr>\n",
       "    <tr>\n",
       "      <th>1</th>\n",
       "      <td>7.20</td>\n",
       "      <td>0</td>\n",
       "      <td>7.10</td>\n",
       "      <td>0</td>\n",
       "      <td>6.11</td>\n",
       "      <td>0.0</td>\n",
       "      <td>6.67</td>\n",
       "      <td>0.0</td>\n",
       "      <td>7.14</td>\n",
       "      <td>0</td>\n",
       "      <td>...</td>\n",
       "      <td>1</td>\n",
       "      <td>1</td>\n",
       "      <td>0</td>\n",
       "      <td>0</td>\n",
       "      <td>1</td>\n",
       "      <td>Good leadership skills</td>\n",
       "      <td>1</td>\n",
       "      <td>1</td>\n",
       "      <td>7.05375</td>\n",
       "      <td>good leadership skill</td>\n",
       "    </tr>\n",
       "    <tr>\n",
       "      <th>2</th>\n",
       "      <td>3.80</td>\n",
       "      <td>4</td>\n",
       "      <td>4.20</td>\n",
       "      <td>2</td>\n",
       "      <td>4.20</td>\n",
       "      <td>1.0</td>\n",
       "      <td>3.80</td>\n",
       "      <td>2.0</td>\n",
       "      <td>4.35</td>\n",
       "      <td>0</td>\n",
       "      <td>...</td>\n",
       "      <td>0</td>\n",
       "      <td>1</td>\n",
       "      <td>0</td>\n",
       "      <td>0</td>\n",
       "      <td>0</td>\n",
       "      <td>Very talkative and Poor attendance</td>\n",
       "      <td>0</td>\n",
       "      <td>0</td>\n",
       "      <td>4.05875</td>\n",
       "      <td>talkat poor attend</td>\n",
       "    </tr>\n",
       "    <tr>\n",
       "      <th>3</th>\n",
       "      <td>6.91</td>\n",
       "      <td>1</td>\n",
       "      <td>6.60</td>\n",
       "      <td>2</td>\n",
       "      <td>5.82</td>\n",
       "      <td>1.0</td>\n",
       "      <td>6.10</td>\n",
       "      <td>0.0</td>\n",
       "      <td>7.71</td>\n",
       "      <td>0</td>\n",
       "      <td>...</td>\n",
       "      <td>0</td>\n",
       "      <td>1</td>\n",
       "      <td>0</td>\n",
       "      <td>1</td>\n",
       "      <td>0</td>\n",
       "      <td>Respectful to Authority and Others</td>\n",
       "      <td>1</td>\n",
       "      <td>0</td>\n",
       "      <td>6.50500</td>\n",
       "      <td>respect author other</td>\n",
       "    </tr>\n",
       "    <tr>\n",
       "      <th>4</th>\n",
       "      <td>3.50</td>\n",
       "      <td>1</td>\n",
       "      <td>3.40</td>\n",
       "      <td>2</td>\n",
       "      <td>4.00</td>\n",
       "      <td>2.0</td>\n",
       "      <td>4.10</td>\n",
       "      <td>2.0</td>\n",
       "      <td>3.63</td>\n",
       "      <td>0</td>\n",
       "      <td>...</td>\n",
       "      <td>0</td>\n",
       "      <td>0</td>\n",
       "      <td>0</td>\n",
       "      <td>0</td>\n",
       "      <td>0</td>\n",
       "      <td>Bunk lectuer</td>\n",
       "      <td>0</td>\n",
       "      <td>0</td>\n",
       "      <td>3.81500</td>\n",
       "      <td>bunk lectuer</td>\n",
       "    </tr>\n",
       "  </tbody>\n",
       "</table>\n",
       "<p>5 rows × 32 columns</p>\n",
       "</div>"
      ],
      "text/plain": [
       "   SEM 1 SGPA  SEM 1 KT  SEM 2 SGPA  SEM 2 KT  SEM 3 SGPA  SEM 3 KT  \\\n",
       "0        7.10         0        6.85         0        7.20       1.0   \n",
       "1        7.20         0        7.10         0        6.11       0.0   \n",
       "2        3.80         4        4.20         2        4.20       1.0   \n",
       "3        6.91         1        6.60         2        5.82       1.0   \n",
       "4        3.50         1        3.40         2        4.00       2.0   \n",
       "\n",
       "   SEM 4 SGPA  SEM 4 KT  SEM 5 SGPA  SEM 5 KT          ...            \\\n",
       "0        7.30       0.0        7.60         0          ...             \n",
       "1        6.67       0.0        7.14         0          ...             \n",
       "2        3.80       2.0        4.35         0          ...             \n",
       "3        6.10       0.0        7.71         0          ...             \n",
       "4        4.10       2.0        3.63         0          ...             \n",
       "\n",
       "   2_hrs_lect  Submissions  5_hrs_lect  5_hrs_pracs  Coaching_classes  \\\n",
       "0           0            0           0            0                 0   \n",
       "1           1            1           0            0                 1   \n",
       "2           0            1           0            0                 0   \n",
       "3           0            1           0            1                 0   \n",
       "4           0            0           0            0                 0   \n",
       "\n",
       "                   Teacher's Feedback  Label  Scocial_Skills  Average pointer  \\\n",
       "0        Disciplined and hard working      1               0          7.13125   \n",
       "1              Good leadership skills      1               1          7.05375   \n",
       "2  Very talkative and Poor attendance      0               0          4.05875   \n",
       "3  Respectful to Authority and Others      1               0          6.50500   \n",
       "4                        Bunk lectuer      0               0          3.81500   \n",
       "\n",
       "        Cleaned_Feedback  \n",
       "0    disciplin hard work  \n",
       "1  good leadership skill  \n",
       "2     talkat poor attend  \n",
       "3   respect author other  \n",
       "4           bunk lectuer  \n",
       "\n",
       "[5 rows x 32 columns]"
      ]
     },
     "execution_count": 3,
     "metadata": {},
     "output_type": "execute_result"
    }
   ],
   "source": [
    "conn = sqlite3.connect('final.sqlite')  #Loading the sqlite file for future use\n",
    "final = pd.read_sql_query(\"\"\"SELECT * FROM Reviews\"\"\", conn)\n",
    "conn.close()\n",
    "final.drop(['index'],axis=1,inplace = True)\n",
    "final.head()"
   ]
  },
  {
   "cell_type": "code",
   "execution_count": 7,
   "metadata": {
    "scrolled": true
   },
   "outputs": [
    {
     "data": {
      "text/plain": [
       "(262, 32)"
      ]
     },
     "execution_count": 7,
     "metadata": {},
     "output_type": "execute_result"
    }
   ],
   "source": [
    "final.shape"
   ]
  },
  {
   "cell_type": "code",
   "execution_count": 4,
   "metadata": {},
   "outputs": [
    {
     "data": {
      "text/plain": [
       "Index(['SEM 1 SGPA', 'SEM 1 KT', 'SEM 2 SGPA', 'SEM 2 KT', 'SEM 3 SGPA',\n",
       "       'SEM 3 KT', 'SEM 4 SGPA', 'SEM 4 KT', 'SEM 5 SGPA', 'SEM 5 KT',\n",
       "       'SEM 6 SGPA', 'SEM 6 KT', 'SEM 7 SGPA', 'SEM 7 KT', 'SEM 8 SGPA',\n",
       "       'Hours_On_Assignment', 'Hours_On_Studies', 'Travel_Time', 'Attendance',\n",
       "       'Internet_Availability', 'Internet_Speed', 'Mode_Of_Transportation',\n",
       "       '2_hrs_lect', 'Submissions', '5_hrs_lect', '5_hrs_pracs',\n",
       "       'Coaching_classes', 'Teacher's Feedback', 'Label', 'Scocial_Skills',\n",
       "       'Average pointer', 'Cleaned_Feedback'],\n",
       "      dtype='object')"
      ]
     },
     "execution_count": 4,
     "metadata": {},
     "output_type": "execute_result"
    }
   ],
   "source": [
    "final.columns"
   ]
  },
  {
   "cell_type": "code",
   "execution_count": 5,
   "metadata": {},
   "outputs": [
    {
     "data": {
      "text/html": [
       "<div>\n",
       "<style>\n",
       "    .dataframe thead tr:only-child th {\n",
       "        text-align: right;\n",
       "    }\n",
       "\n",
       "    .dataframe thead th {\n",
       "        text-align: left;\n",
       "    }\n",
       "\n",
       "    .dataframe tbody tr th {\n",
       "        vertical-align: top;\n",
       "    }\n",
       "</style>\n",
       "<table border=\"1\" class=\"dataframe\">\n",
       "  <thead>\n",
       "    <tr style=\"text-align: right;\">\n",
       "      <th></th>\n",
       "      <th>SEM 1 SGPA</th>\n",
       "      <th>SEM 1 KT</th>\n",
       "      <th>SEM 2 SGPA</th>\n",
       "      <th>SEM 2 KT</th>\n",
       "      <th>SEM 3 SGPA</th>\n",
       "      <th>SEM 3 KT</th>\n",
       "      <th>SEM 4 SGPA</th>\n",
       "      <th>SEM 4 KT</th>\n",
       "      <th>Hours_On_Assignment</th>\n",
       "      <th>Hours_On_Studies</th>\n",
       "      <th>...</th>\n",
       "      <th>Internet_Availability</th>\n",
       "      <th>Internet_Speed</th>\n",
       "      <th>Mode_Of_Transportation</th>\n",
       "      <th>2_hrs_lect</th>\n",
       "      <th>Submissions</th>\n",
       "      <th>5_hrs_lect</th>\n",
       "      <th>5_hrs_pracs</th>\n",
       "      <th>Coaching_classes</th>\n",
       "      <th>Label</th>\n",
       "      <th>Scocial_Skills</th>\n",
       "    </tr>\n",
       "  </thead>\n",
       "  <tbody>\n",
       "    <tr>\n",
       "      <th>0</th>\n",
       "      <td>7.10</td>\n",
       "      <td>0</td>\n",
       "      <td>6.85</td>\n",
       "      <td>0</td>\n",
       "      <td>7.20</td>\n",
       "      <td>1.0</td>\n",
       "      <td>7.30</td>\n",
       "      <td>0.0</td>\n",
       "      <td>1</td>\n",
       "      <td>0</td>\n",
       "      <td>...</td>\n",
       "      <td>1</td>\n",
       "      <td>0</td>\n",
       "      <td>1</td>\n",
       "      <td>0</td>\n",
       "      <td>0</td>\n",
       "      <td>0</td>\n",
       "      <td>0</td>\n",
       "      <td>0</td>\n",
       "      <td>1</td>\n",
       "      <td>0</td>\n",
       "    </tr>\n",
       "    <tr>\n",
       "      <th>1</th>\n",
       "      <td>7.20</td>\n",
       "      <td>0</td>\n",
       "      <td>7.10</td>\n",
       "      <td>0</td>\n",
       "      <td>6.11</td>\n",
       "      <td>0.0</td>\n",
       "      <td>6.67</td>\n",
       "      <td>0.0</td>\n",
       "      <td>0</td>\n",
       "      <td>0</td>\n",
       "      <td>...</td>\n",
       "      <td>1</td>\n",
       "      <td>0</td>\n",
       "      <td>1</td>\n",
       "      <td>1</td>\n",
       "      <td>1</td>\n",
       "      <td>0</td>\n",
       "      <td>0</td>\n",
       "      <td>1</td>\n",
       "      <td>1</td>\n",
       "      <td>1</td>\n",
       "    </tr>\n",
       "    <tr>\n",
       "      <th>2</th>\n",
       "      <td>3.80</td>\n",
       "      <td>4</td>\n",
       "      <td>4.20</td>\n",
       "      <td>2</td>\n",
       "      <td>4.20</td>\n",
       "      <td>1.0</td>\n",
       "      <td>3.80</td>\n",
       "      <td>2.0</td>\n",
       "      <td>0</td>\n",
       "      <td>0</td>\n",
       "      <td>...</td>\n",
       "      <td>1</td>\n",
       "      <td>0</td>\n",
       "      <td>1</td>\n",
       "      <td>0</td>\n",
       "      <td>1</td>\n",
       "      <td>0</td>\n",
       "      <td>0</td>\n",
       "      <td>0</td>\n",
       "      <td>0</td>\n",
       "      <td>0</td>\n",
       "    </tr>\n",
       "    <tr>\n",
       "      <th>3</th>\n",
       "      <td>6.91</td>\n",
       "      <td>1</td>\n",
       "      <td>6.60</td>\n",
       "      <td>2</td>\n",
       "      <td>5.82</td>\n",
       "      <td>1.0</td>\n",
       "      <td>6.10</td>\n",
       "      <td>0.0</td>\n",
       "      <td>1</td>\n",
       "      <td>0</td>\n",
       "      <td>...</td>\n",
       "      <td>1</td>\n",
       "      <td>0</td>\n",
       "      <td>1</td>\n",
       "      <td>0</td>\n",
       "      <td>1</td>\n",
       "      <td>0</td>\n",
       "      <td>1</td>\n",
       "      <td>0</td>\n",
       "      <td>1</td>\n",
       "      <td>0</td>\n",
       "    </tr>\n",
       "    <tr>\n",
       "      <th>4</th>\n",
       "      <td>3.50</td>\n",
       "      <td>1</td>\n",
       "      <td>3.40</td>\n",
       "      <td>2</td>\n",
       "      <td>4.00</td>\n",
       "      <td>2.0</td>\n",
       "      <td>4.10</td>\n",
       "      <td>2.0</td>\n",
       "      <td>0</td>\n",
       "      <td>0</td>\n",
       "      <td>...</td>\n",
       "      <td>1</td>\n",
       "      <td>0</td>\n",
       "      <td>1</td>\n",
       "      <td>0</td>\n",
       "      <td>0</td>\n",
       "      <td>0</td>\n",
       "      <td>0</td>\n",
       "      <td>0</td>\n",
       "      <td>0</td>\n",
       "      <td>0</td>\n",
       "    </tr>\n",
       "  </tbody>\n",
       "</table>\n",
       "<p>5 rows × 22 columns</p>\n",
       "</div>"
      ],
      "text/plain": [
       "   SEM 1 SGPA  SEM 1 KT  SEM 2 SGPA  SEM 2 KT  SEM 3 SGPA  SEM 3 KT  \\\n",
       "0        7.10         0        6.85         0        7.20       1.0   \n",
       "1        7.20         0        7.10         0        6.11       0.0   \n",
       "2        3.80         4        4.20         2        4.20       1.0   \n",
       "3        6.91         1        6.60         2        5.82       1.0   \n",
       "4        3.50         1        3.40         2        4.00       2.0   \n",
       "\n",
       "   SEM 4 SGPA  SEM 4 KT  Hours_On_Assignment  Hours_On_Studies  \\\n",
       "0        7.30       0.0                    1                 0   \n",
       "1        6.67       0.0                    0                 0   \n",
       "2        3.80       2.0                    0                 0   \n",
       "3        6.10       0.0                    1                 0   \n",
       "4        4.10       2.0                    0                 0   \n",
       "\n",
       "        ...        Internet_Availability  Internet_Speed  \\\n",
       "0       ...                            1               0   \n",
       "1       ...                            1               0   \n",
       "2       ...                            1               0   \n",
       "3       ...                            1               0   \n",
       "4       ...                            1               0   \n",
       "\n",
       "   Mode_Of_Transportation  2_hrs_lect  Submissions  5_hrs_lect  5_hrs_pracs  \\\n",
       "0                       1           0            0           0            0   \n",
       "1                       1           1            1           0            0   \n",
       "2                       1           0            1           0            0   \n",
       "3                       1           0            1           0            1   \n",
       "4                       1           0            0           0            0   \n",
       "\n",
       "   Coaching_classes  Label  Scocial_Skills  \n",
       "0                 0      1               0  \n",
       "1                 1      1               1  \n",
       "2                 0      0               0  \n",
       "3                 0      1               0  \n",
       "4                 0      0               0  \n",
       "\n",
       "[5 rows x 22 columns]"
      ]
     },
     "execution_count": 5,
     "metadata": {},
     "output_type": "execute_result"
    }
   ],
   "source": [
    "final.drop(['SEM 5 SGPA','SEM 5 KT','SEM 6 SGPA', 'SEM 6 KT', 'SEM 7 SGPA', 'SEM 7 KT', 'SEM 8 SGPA',\"Teacher's Feedback\",\"Cleaned_Feedback\",'Average pointer'],axis=1,inplace = True)\n",
    "final.head()"
   ]
  },
  {
   "cell_type": "code",
   "execution_count": 6,
   "metadata": {},
   "outputs": [
    {
     "data": {
      "text/plain": [
       "Index(['SEM 1 SGPA', 'SEM 1 KT', 'SEM 2 SGPA', 'SEM 2 KT', 'SEM 3 SGPA',\n",
       "       'SEM 3 KT', 'SEM 4 SGPA', 'SEM 4 KT', 'Hours_On_Assignment',\n",
       "       'Hours_On_Studies', 'Travel_Time', 'Attendance',\n",
       "       'Internet_Availability', 'Internet_Speed', 'Mode_Of_Transportation',\n",
       "       '2_hrs_lect', 'Submissions', '5_hrs_lect', '5_hrs_pracs',\n",
       "       'Coaching_classes', 'Label', 'Scocial_Skills'],\n",
       "      dtype='object')"
      ]
     },
     "execution_count": 6,
     "metadata": {},
     "output_type": "execute_result"
    }
   ],
   "source": [
    "final.columns"
   ]
  },
  {
   "cell_type": "code",
   "execution_count": 7,
   "metadata": {},
   "outputs": [
    {
     "data": {
      "text/plain": [
       "(262, 22)"
      ]
     },
     "execution_count": 7,
     "metadata": {},
     "output_type": "execute_result"
    }
   ],
   "source": [
    "final.shape"
   ]
  },
  {
   "cell_type": "markdown",
   "metadata": {},
   "source": [
    "# Logistic Regression"
   ]
  },
  {
   "cell_type": "code",
   "execution_count": 29,
   "metadata": {
    "collapsed": true
   },
   "outputs": [],
   "source": [
    "# Values for the hyperparameter 'C':\n",
    "tuned_params = [{'C': [0.0001,0.001,0.01,0.1,1,10,100,1000,10000]}]\n",
    "X_train, X_test, y_train, y_test = train_test_split(X, y, test_size = 0.3, shuffle = False)"
   ]
  },
  {
   "cell_type": "code",
   "execution_count": 30,
   "metadata": {},
   "outputs": [
    {
     "data": {
      "text/plain": [
       "GridSearchCV(cv=None, error_score='raise',\n",
       "       estimator=LogisticRegression(C=1.0, class_weight=None, dual=False, fit_intercept=True,\n",
       "          intercept_scaling=1, max_iter=100, multi_class='ovr', n_jobs=1,\n",
       "          penalty='l2', random_state=None, solver='liblinear', tol=0.0001,\n",
       "          verbose=0, warm_start=False),\n",
       "       fit_params=None, iid=True, n_jobs=1,\n",
       "       param_grid=[{'C': [0.0001, 0.001, 0.01, 0.1, 1, 10, 100, 1000, 10000]}],\n",
       "       pre_dispatch='2*n_jobs', refit=True, return_train_score='warn',\n",
       "       scoring='accuracy', verbose=0)"
      ]
     },
     "execution_count": 30,
     "metadata": {},
     "output_type": "execute_result"
    }
   ],
   "source": [
    "# Grid Search\n",
    "model = GridSearchCV(LogisticRegression(), tuned_params, scoring = 'accuracy')\n",
    "model.fit(X_train, y_train)"
   ]
  },
  {
   "cell_type": "code",
   "execution_count": 31,
   "metadata": {},
   "outputs": [
    {
     "name": "stdout",
     "output_type": "stream",
     "text": [
      "LogisticRegression(C=0.01, class_weight=None, dual=False, fit_intercept=True,\n",
      "          intercept_scaling=1, max_iter=100, multi_class='ovr', n_jobs=1,\n",
      "          penalty='l2', random_state=None, solver='liblinear', tol=0.0001,\n",
      "          verbose=0, warm_start=False)\n",
      "1.0\n"
     ]
    }
   ],
   "source": [
    "print(model.best_estimator_)\n",
    "print(model.score(X_test, y_test))"
   ]
  },
  {
   "cell_type": "code",
   "execution_count": 34,
   "metadata": {},
   "outputs": [
    {
     "data": {
      "text/plain": [
       "100.0"
      ]
     },
     "execution_count": 34,
     "metadata": {},
     "output_type": "execute_result"
    }
   ],
   "source": [
    "clf = LogisticRegression(C = 0.01)\n",
    "clf.fit(X_train, y_train)\n",
    "y_pred = clf.predict(X_test)\n",
    "acc = accuracy_score(y_test, y_pred)*float(100)\n",
    "acc"
   ]
  },
  {
   "cell_type": "code",
   "execution_count": 39,
   "metadata": {},
   "outputs": [
    {
     "data": {
      "text/plain": [
       "array([ 4.64,  1.  ,  4.21,  1.  ,  4.31,  1.  ,  4.19,  1.  ,  0.  ,\n",
       "        0.  ,  2.  ,  5.  ,  1.  ,  0.  ,  3.  ,  0.  ,  1.  ,  0.  ,\n",
       "        0.  ,  0.  ,  0.  ])"
      ]
     },
     "execution_count": 39,
     "metadata": {},
     "output_type": "execute_result"
    }
   ],
   "source": [
    "X_test[0]"
   ]
  },
  {
   "cell_type": "code",
   "execution_count": 40,
   "metadata": {},
   "outputs": [
    {
     "data": {
      "text/plain": [
       "array([ 6.5 ,  0.  ,  7.22,  0.  ,  7.65,  0.  ,  8.55,  0.  ,  1.  ,\n",
       "        1.  ,  0.  ,  1.  ,  1.  ,  0.  ,  1.  ,  0.  ,  1.  ,  1.  ,\n",
       "        1.  ,  1.  ,  1.  ])"
      ]
     },
     "execution_count": 40,
     "metadata": {},
     "output_type": "execute_result"
    }
   ],
   "source": [
    "X"
   ]
  },
  {
   "cell_type": "code",
   "execution_count": 46,
   "metadata": {},
   "outputs": [
    {
     "name": "stdout",
     "output_type": "stream",
     "text": [
      "[1]\n"
     ]
    }
   ],
   "source": [
    "name = 'Pratheesh'\n",
    "gender = 1\n",
    "sem1_ptr = 4.6 \n",
    "sem1_kt = 2\n",
    "sem2_ptr = 5.2\n",
    "sem2_kt = 1\n",
    "sem3_ptr = 4.5\n",
    "sem3_kt = 4\n",
    "sem4_ptr = 5.5\n",
    "sem4_kt = 1\n",
    "assign = 0\n",
    "travel = 1\n",
    "studies = 0\n",
    "attnd = 0\n",
    "internet = 1\n",
    "int_speed = 0\n",
    "mode_trns = 1\n",
    "lectures_2 = 0\n",
    "submissions = 0\n",
    "lectures_5 =  0\n",
    "practicals_5 = 0\n",
    "coaching_class = 1 \n",
    "social_skills = 2\n",
    "X = np.array([sem1_ptr,sem1_kt,sem2_ptr,sem2_kt,sem3_ptr,sem3_kt,sem4_ptr,sem4_kt,assign,travel,studies,attnd,internet,int_speed,mode_trns,lectures_2,submissions,lectures_5,practicals_5,coaching_class,social_skills])\n",
    "y_pred = clf.predict([X])\n",
    "print(y_pred)"
   ]
  },
  {
   "cell_type": "code",
   "execution_count": 35,
   "metadata": {},
   "outputs": [
    {
     "data": {
      "text/plain": [
       "array([[25,  0],\n",
       "       [ 0, 53]], dtype=int64)"
      ]
     },
     "execution_count": 35,
     "metadata": {},
     "output_type": "execute_result"
    }
   ],
   "source": [
    "confusion_matrix(y_test, y_pred).T"
   ]
  },
  {
   "cell_type": "code",
   "execution_count": null,
   "metadata": {
    "collapsed": true
   },
   "outputs": [],
   "source": []
  }
 ],
 "metadata": {
  "kernelspec": {
   "display_name": "Python 3",
   "language": "python",
   "name": "python3"
  },
  "language_info": {
   "codemirror_mode": {
    "name": "ipython",
    "version": 3
   },
   "file_extension": ".py",
   "mimetype": "text/x-python",
   "name": "python",
   "nbconvert_exporter": "python",
   "pygments_lexer": "ipython3",
   "version": "3.6.4"
  }
 },
 "nbformat": 4,
 "nbformat_minor": 2
}
